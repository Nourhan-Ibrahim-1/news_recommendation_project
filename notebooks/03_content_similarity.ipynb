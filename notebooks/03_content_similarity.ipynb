{
 "cells": [
  {
   "cell_type": "code",
   "execution_count": 1,
   "id": "5c0dabd1",
   "metadata": {},
   "outputs": [],
   "source": [
    "import pandas as pd\n",
    "import numpy as np\n",
    "from sklearn.metrics.pairwise import cosine_similarity\n"
   ]
  },
  {
   "cell_type": "code",
   "execution_count": 2,
   "id": "5fcb21a7",
   "metadata": {},
   "outputs": [],
   "source": [
    "# Load processed data and user vector\n",
    "news_df = pd.read_csv('../data/processed_news.csv')\n",
    "user_vector = np.load('../data/user_vector.npy')\n"
   ]
  },
  {
   "cell_type": "code",
   "execution_count": 3,
   "id": "da0fbcc0",
   "metadata": {},
   "outputs": [],
   "source": [
    "# Load TF-IDF matrix\n",
    "from sklearn.feature_extraction.text import TfidfVectorizer\n",
    "vectorizer = TfidfVectorizer()\n",
    "tfidf_matrix = vectorizer.fit_transform(news_df['processed_content'])\n"
   ]
  },
  {
   "cell_type": "code",
   "execution_count": 4,
   "id": "d42a8801",
   "metadata": {},
   "outputs": [],
   "source": [
    "# Compute cosine similarity\n",
    "similarities = cosine_similarity(user_vector, tfidf_matrix).flatten()\n"
   ]
  },
  {
   "cell_type": "code",
   "execution_count": 5,
   "id": "f951bd1e",
   "metadata": {},
   "outputs": [],
   "source": [
    "# Add similarity scores to the DataFrame\n",
    "news_df['similarity'] = similarities"
   ]
  },
  {
   "cell_type": "code",
   "execution_count": 6,
   "id": "d6e618a3",
   "metadata": {},
   "outputs": [],
   "source": [
    "# Sort by similarity (descending)\n",
    "news_df = news_df.sort_values(by='similarity', ascending=False)"
   ]
  },
  {
   "cell_type": "code",
   "execution_count": 7,
   "id": "a92c5065",
   "metadata": {},
   "outputs": [
    {
     "data": {
      "text/html": [
       "<div>\n",
       "<style scoped>\n",
       "    .dataframe tbody tr th:only-of-type {\n",
       "        vertical-align: middle;\n",
       "    }\n",
       "\n",
       "    .dataframe tbody tr th {\n",
       "        vertical-align: top;\n",
       "    }\n",
       "\n",
       "    .dataframe thead th {\n",
       "        text-align: right;\n",
       "    }\n",
       "</style>\n",
       "<table border=\"1\" class=\"dataframe\">\n",
       "  <thead>\n",
       "    <tr style=\"text-align: right;\">\n",
       "      <th></th>\n",
       "      <th>title</th>\n",
       "      <th>category</th>\n",
       "      <th>similarity</th>\n",
       "    </tr>\n",
       "  </thead>\n",
       "  <tbody>\n",
       "    <tr>\n",
       "      <th>4835</th>\n",
       "      <td>Best Looks: Queen Maxima of the Netherlands</td>\n",
       "      <td>lifestyle</td>\n",
       "      <td>0.516158</td>\n",
       "    </tr>\n",
       "    <tr>\n",
       "      <th>104</th>\n",
       "      <td>Queen Elizabeth's Cousin Says Royal Family 'Do...</td>\n",
       "      <td>lifestyle</td>\n",
       "      <td>0.458662</td>\n",
       "    </tr>\n",
       "    <tr>\n",
       "      <th>46107</th>\n",
       "      <td>The Queen Will No Longer Wear Real Fur</td>\n",
       "      <td>lifestyle</td>\n",
       "      <td>0.445280</td>\n",
       "    </tr>\n",
       "    <tr>\n",
       "      <th>36134</th>\n",
       "      <td>The Queen is apparently a fan of this royal</td>\n",
       "      <td>video</td>\n",
       "      <td>0.412667</td>\n",
       "    </tr>\n",
       "    <tr>\n",
       "      <th>28486</th>\n",
       "      <td>The Latest Celebrity to Go Fur Free? Queen Eli...</td>\n",
       "      <td>lifestyle</td>\n",
       "      <td>0.412479</td>\n",
       "    </tr>\n",
       "    <tr>\n",
       "      <th>27854</th>\n",
       "      <td>9 royal tour rules the royal family has to follow</td>\n",
       "      <td>lifestyle</td>\n",
       "      <td>0.399930</td>\n",
       "    </tr>\n",
       "    <tr>\n",
       "      <th>44399</th>\n",
       "      <td>British royals attend Remembrance event</td>\n",
       "      <td>news</td>\n",
       "      <td>0.399813</td>\n",
       "    </tr>\n",
       "    <tr>\n",
       "      <th>30025</th>\n",
       "      <td>Best looks: Queen Letizia of Spain</td>\n",
       "      <td>lifestyle</td>\n",
       "      <td>0.398844</td>\n",
       "    </tr>\n",
       "    <tr>\n",
       "      <th>102</th>\n",
       "      <td>When royals lose their tempers, from the Queen...</td>\n",
       "      <td>lifestyle</td>\n",
       "      <td>0.392164</td>\n",
       "    </tr>\n",
       "    <tr>\n",
       "      <th>39</th>\n",
       "      <td>25 Photos of the Royal Family at Balmoral Cast...</td>\n",
       "      <td>lifestyle</td>\n",
       "      <td>0.383096</td>\n",
       "    </tr>\n",
       "  </tbody>\n",
       "</table>\n",
       "</div>"
      ],
      "text/plain": [
       "                                                   title   category  \\\n",
       "4835         Best Looks: Queen Maxima of the Netherlands  lifestyle   \n",
       "104    Queen Elizabeth's Cousin Says Royal Family 'Do...  lifestyle   \n",
       "46107             The Queen Will No Longer Wear Real Fur  lifestyle   \n",
       "36134        The Queen is apparently a fan of this royal      video   \n",
       "28486  The Latest Celebrity to Go Fur Free? Queen Eli...  lifestyle   \n",
       "27854  9 royal tour rules the royal family has to follow  lifestyle   \n",
       "44399            British royals attend Remembrance event       news   \n",
       "30025                 Best looks: Queen Letizia of Spain  lifestyle   \n",
       "102    When royals lose their tempers, from the Queen...  lifestyle   \n",
       "39     25 Photos of the Royal Family at Balmoral Cast...  lifestyle   \n",
       "\n",
       "       similarity  \n",
       "4835     0.516158  \n",
       "104      0.458662  \n",
       "46107    0.445280  \n",
       "36134    0.412667  \n",
       "28486    0.412479  \n",
       "27854    0.399930  \n",
       "44399    0.399813  \n",
       "30025    0.398844  \n",
       "102      0.392164  \n",
       "39       0.383096  "
      ]
     },
     "execution_count": 7,
     "metadata": {},
     "output_type": "execute_result"
    }
   ],
   "source": [
    "# Save top results\n",
    "news_df.to_csv('../results/sample_recommendations.csv', index=False)\n",
    "\n",
    "news_df[['title', 'category', 'similarity']].head(10)"
   ]
  }
 ],
 "metadata": {
  "kernelspec": {
   "display_name": "Python 3",
   "language": "python",
   "name": "python3"
  },
  "language_info": {
   "codemirror_mode": {
    "name": "ipython",
    "version": 3
   },
   "file_extension": ".py",
   "mimetype": "text/x-python",
   "name": "python",
   "nbconvert_exporter": "python",
   "pygments_lexer": "ipython3",
   "version": "3.10.0"
  }
 },
 "nbformat": 4,
 "nbformat_minor": 5
}
