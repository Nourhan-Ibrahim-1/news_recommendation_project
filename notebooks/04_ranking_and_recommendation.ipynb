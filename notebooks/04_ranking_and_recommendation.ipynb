{
 "cells": [
  {
   "cell_type": "code",
   "execution_count": 1,
   "id": "94aadeef",
   "metadata": {},
   "outputs": [],
   "source": [
    "import pandas as pd"
   ]
  },
  {
   "cell_type": "code",
   "execution_count": 2,
   "id": "012d54c2",
   "metadata": {},
   "outputs": [],
   "source": [
    "# Load results\n",
    "recommendations = pd.read_csv('../results/sample_recommendations.csv')\n",
    "\n",
    "# Display top-N recommendations\n",
    "top_n = 10\n",
    "top_recommendations = recommendations[['title', 'abstract', 'category', 'similarity']].head(top_n)\n"
   ]
  },
  {
   "cell_type": "code",
   "execution_count": 3,
   "id": "8dc11f1b",
   "metadata": {},
   "outputs": [
    {
     "name": "stdout",
     "output_type": "stream",
     "text": [
      "Title: Best Looks: Queen Maxima of the Netherlands\n",
      "Category: lifestyle\n",
      "Similarity Score: 0.5162\n",
      "Abstract: We're so very fortunate to live in a world filled with fashionable royals.\n",
      "--------------------------------------------------------------------------------\n",
      "Title: Queen Elizabeth's Cousin Says Royal Family 'Don't Communicate Very Well'\n",
      "Category: lifestyle\n",
      "Similarity Score: 0.4587\n",
      "Abstract: Queen Elizabeth's Cousin: Royal Family 'Don't Communicate Very Well'\n",
      "--------------------------------------------------------------------------------\n",
      "Title: The Queen Will No Longer Wear Real Fur\n",
      "Category: lifestyle\n",
      "Similarity Score: 0.4453\n",
      "Abstract: Queen Elizabeth has always been a fashion icon, but her latest clothing decision may be her best one yet.\n",
      "--------------------------------------------------------------------------------\n",
      "Title: The Queen is apparently a fan of this royal\n",
      "Category: video\n",
      "Similarity Score: 0.4127\n",
      "Abstract: The Queen might not have favorites but she can be a fan of certain behavior. Buzz60's Keri Lumm reports.\n",
      "--------------------------------------------------------------------------------\n",
      "Title: The Latest Celebrity to Go Fur Free? Queen Elizabeth\n",
      "Category: lifestyle\n",
      "Similarity Score: 0.4125\n",
      "Abstract: In a new memoir, Queen Elizabeth's dresser reveals that as of 2019, the Queen only wears faux fur during royal appearances.\n",
      "--------------------------------------------------------------------------------\n",
      "Title: 9 royal tour rules the royal family has to follow\n",
      "Category: lifestyle\n",
      "Similarity Score: 0.3999\n",
      "Abstract: As much as it might look like it, those royal tours aren't a holiday.\n",
      "--------------------------------------------------------------------------------\n",
      "Title: British royals attend Remembrance event\n",
      "Category: news\n",
      "Similarity Score: 0.3998\n",
      "Abstract: Queen Elizabeth and other members of the Royal family - including the Duke and Duchess of Sussex - attend a commemoration service at London's Royal Albert Hall on Saturday (November 9)\n",
      "--------------------------------------------------------------------------------\n",
      "Title: Best looks: Queen Letizia of Spain\n",
      "Category: lifestyle\n",
      "Similarity Score: 0.3988\n",
      "Abstract: Move over, Kate and Meghan. Queen Letizia of Spain is another royal fashion icon who deserves a crown for her sartorial skills.\n",
      "--------------------------------------------------------------------------------\n",
      "Title: When royals lose their tempers, from the Queen to Kate Middleton\n",
      "Category: lifestyle\n",
      "Similarity Score: 0.3922\n",
      "Abstract: See all the times the royal family have lost their tempers in public.\n",
      "--------------------------------------------------------------------------------\n",
      "Title: 25 Photos of the Royal Family at Balmoral Castle, Queen Elizabeth's Favorite Home\n",
      "Category: lifestyle\n",
      "Similarity Score: 0.3831\n",
      "Abstract: The royal family has been visiting the Scottish estate for more than a century.\n",
      "--------------------------------------------------------------------------------\n"
     ]
    }
   ],
   "source": [
    "# Show nicely\n",
    "for idx, row in top_recommendations.iterrows():\n",
    "    print(f\"Title: {row['title']}\")\n",
    "    print(f\"Category: {row['category']}\")\n",
    "    print(f\"Similarity Score: {row['similarity']:.4f}\")\n",
    "    print(f\"Abstract: {row['abstract']}\\n{'-'*80}\")"
   ]
  },
  {
   "cell_type": "code",
   "execution_count": 5,
   "id": "29f60550",
   "metadata": {},
   "outputs": [],
   "source": [
    "# Save feedback placeholder\n",
    "with open('../results/user_feedback_notes.txt', 'w') as f:\n",
    "    f.write(\"Feedback for top recommendations:\\n\\n\")"
   ]
  }
 ],
 "metadata": {
  "kernelspec": {
   "display_name": "Python 3",
   "language": "python",
   "name": "python3"
  },
  "language_info": {
   "codemirror_mode": {
    "name": "ipython",
    "version": 3
   },
   "file_extension": ".py",
   "mimetype": "text/x-python",
   "name": "python",
   "nbconvert_exporter": "python",
   "pygments_lexer": "ipython3",
   "version": "3.10.0"
  }
 },
 "nbformat": 4,
 "nbformat_minor": 5
}
