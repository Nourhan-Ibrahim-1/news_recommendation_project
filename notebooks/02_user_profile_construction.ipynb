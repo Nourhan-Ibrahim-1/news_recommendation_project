{
 "cells": [
  {
   "cell_type": "code",
   "execution_count": 7,
   "id": "6699c054",
   "metadata": {},
   "outputs": [],
   "source": [
    "import pandas as pd\n",
    "from sklearn.feature_extraction.text import TfidfVectorizer\n"
   ]
  },
  {
   "cell_type": "code",
   "execution_count": 8,
   "id": "9320660a",
   "metadata": {},
   "outputs": [],
   "source": [
    "# Load processed data\n",
    "news_df = pd.read_csv('../data/processed_news.csv')\n"
   ]
  },
  {
   "cell_type": "code",
   "execution_count": 9,
   "id": "c0eb98f5",
   "metadata": {},
   "outputs": [],
   "source": [
    "# Example user preferences (you can customize this)\n",
    "preferred_keywords = ['queen', 'royal', 'fashion', 'charles']\n",
    "preferred_text = ' '.join(preferred_keywords)\n"
   ]
  },
  {
   "cell_type": "code",
   "execution_count": 4,
   "id": "6f722fda",
   "metadata": {},
   "outputs": [],
   "source": [
    "# Create TF-IDF vectorizer\n",
    "vectorizer = TfidfVectorizer()\n",
    "tfidf_matrix = vectorizer.fit_transform(news_df['processed_content'])\n"
   ]
  },
  {
   "cell_type": "code",
   "execution_count": 5,
   "id": "3d5365da",
   "metadata": {},
   "outputs": [],
   "source": [
    "# Transform user input to a vector using the same vectorizer\n",
    "user_vector = vectorizer.transform([preferred_text])"
   ]
  },
  {
   "cell_type": "code",
   "execution_count": 6,
   "id": "c7a196ca",
   "metadata": {},
   "outputs": [
    {
     "name": "stdout",
     "output_type": "stream",
     "text": [
      "User profile vector created.\n"
     ]
    }
   ],
   "source": [
    "# Save user vector for next steps (optional)\n",
    "import numpy as np\n",
    "np.save('../data/user_vector.npy', user_vector.toarray())\n",
    "\n",
    "print(\"User profile vector created.\")"
   ]
  }
 ],
 "metadata": {
  "kernelspec": {
   "display_name": "Python 3",
   "language": "python",
   "name": "python3"
  },
  "language_info": {
   "codemirror_mode": {
    "name": "ipython",
    "version": 3
   },
   "file_extension": ".py",
   "mimetype": "text/x-python",
   "name": "python",
   "nbconvert_exporter": "python",
   "pygments_lexer": "ipython3",
   "version": "3.10.0"
  }
 },
 "nbformat": 4,
 "nbformat_minor": 5
}
