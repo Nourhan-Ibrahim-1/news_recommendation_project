{
 "cells": [
  {
   "cell_type": "code",
   "execution_count": 1,
   "id": "87eb7f0d",
   "metadata": {},
   "outputs": [],
   "source": [
    "import pandas as pd\n",
    "\n",
    "# save as .tsv\n",
    "df = pd.read_csv('news.tsv', sep='\\t')\n",
    "\n",
    "# save as .csv\n",
    "df.to_csv('news.csv', index=False)\n"
   ]
  }
 ],
 "metadata": {
  "kernelspec": {
   "display_name": "Python 3",
   "language": "python",
   "name": "python3"
  },
  "language_info": {
   "codemirror_mode": {
    "name": "ipython",
    "version": 3
   },
   "file_extension": ".py",
   "mimetype": "text/x-python",
   "name": "python",
   "nbconvert_exporter": "python",
   "pygments_lexer": "ipython3",
   "version": "3.10.0"
  }
 },
 "nbformat": 4,
 "nbformat_minor": 5
}
